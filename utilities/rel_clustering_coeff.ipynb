{
 "cells": [
  {
   "cell_type": "code",
   "execution_count": 1,
   "metadata": {},
   "outputs": [],
   "source": [
    "import networkx as nx\n",
    "import numpy as np\n",
    "import scipy.sparse as ssp\n",
    "from argparse import ArgumentParser"
   ]
  },
  {
   "cell_type": "markdown",
   "metadata": {},
   "source": [
    "## Reading from the graph"
   ]
  },
  {
   "cell_type": "code",
   "execution_count": 2,
   "metadata": {},
   "outputs": [],
   "source": [
    "def _lines_in_file(filename):\n",
    "    with open(filename) as f:\n",
    "        for i, _ in enumerate(f):\n",
    "            pass\n",
    "    return i + 1\n"
   ]
  },
  {
   "cell_type": "code",
   "execution_count": 3,
   "metadata": {},
   "outputs": [],
   "source": [
    "def graph_reader(filename):\n",
    "    graph_data = []\n",
    "    with open(filename) as f:\n",
    "        for i, line in enumerate(f):\n",
    "            vals = line.split(' ')\n",
    "            if len(vals) == 4:\n",
    "                vals = vals[:-1]\n",
    "            elif len(vals) == 3:\n",
    "                vals[-1] = vals[-1][:-1]\n",
    "            else:\n",
    "                raise ValueError(\"Incorrect format in line {}\".format(i + 1))\n",
    "            vals = [int(v) for v in vals]\n",
    "            graph_data.append(tuple(vals))\n",
    "\n",
    "    assert len(graph_data) == _lines_in_file(p.graph_file),\"Incorrect file read - input file has {} lines \"\"while only {} edges have been added\".format(_lines_in_file(p.graph_file), len(graph_data))\n",
    "\n",
    "    G = nx.DiGraph()  # directed graph\n",
    "    G.add_weighted_edges_from(graph_data)\n",
    "\n",
    "    return G"
   ]
  },
  {
   "cell_type": "markdown",
   "metadata": {},
   "source": [
    "## Defining graph parameters"
   ]
  },
  {
   "cell_type": "code",
   "execution_count": 4,
   "metadata": {},
   "outputs": [],
   "source": [
    "def get_adjacency_matrix(graph_obj, meta_data=False):\n",
    "    \"\"\"\n",
    "    This function returns a n x n adjacency matrix given a networkx graph object.\n",
    "\n",
    "    Arguments:\n",
    "        graph_obj : Networkx graph object\n",
    "        meta_data : Argument to toggle to get meta_data of graph optionally. Default=False\n",
    "\n",
    "    Returns:\n",
    "        If meta_data is True, then a 2-tuple : (adjacency matrix, meta-data dictionary)\n",
    "        If meta_data is False, then a 2-tuple : (adjacency matrix, None)\n",
    "        Please note adjacency matrix returned is in sparse format. Use `.todense()` to convert\n",
    "        to dense format\n",
    "    \"\"\"\n",
    "    adj_mat = nx.adjacency_matrix(graph_obj)  # this is a sparse matrix\n",
    "    metas = None\n",
    "    if meta_data:\n",
    "        metas = {}\n",
    "        metas['density'] = adj_mat.getnnz() / (adj_mat.shape[0] * adj_mat.shape[1])\n",
    "        metas['positive'] = (adj_mat > 0).getnnz()\n",
    "        metas['negative'] = (adj_mat < 0).getnnz()\n",
    "        metas['links'] = adj_mat.getnnz()\n",
    "        metas['average_links'] = adj_mat.getnnz() / adj_mat.shape[0]\n",
    "    return (adj_mat, metas)"
   ]
  },
  {
   "cell_type": "code",
   "execution_count": 5,
   "metadata": {},
   "outputs": [],
   "source": [
    "def get_absolute_adjacency_matrix(graph_obj):\n",
    "    \"\"\"\n",
    "    This function returns a n x n adjacency matrix given a networkx graph object, where the\n",
    "    entries are absolute values of the weights between the edges\n",
    "\n",
    "    Arguments:\n",
    "        graph_obj : Networkx graph object\n",
    "\n",
    "    Returns:\n",
    "        n x n absolute adjacency matrix (sparse)\n",
    "    \"\"\"\n",
    "    adj_mat, _ = get_adjacency_matrix(graph_obj, False)\n",
    "    adj_mat = abs(adj_mat)\n",
    "    return adj_mat\n"
   ]
  },
  {
   "cell_type": "code",
   "execution_count": 6,
   "metadata": {},
   "outputs": [],
   "source": [
    "def get_symmetric_adjacency_matrix(graph_obj):\n",
    "    \"\"\"\n",
    "    This function returns a n x n given a networkx graph object, which is the sum of the\n",
    "    adjacency matrix and its transpose. This provides symmetry.\n",
    "\n",
    "    Arguments:\n",
    "        graph_obj : Networkx graph object\n",
    "\n",
    "    Returns:\n",
    "        n x n matrix (sparse)\n",
    "    \"\"\"\n",
    "    adj_mat, _ = get_adjacency_matrix(graph_obj, False)\n",
    "    adj_mat_t = adj_mat.transpose()\n",
    "    return adj_mat + adj_mat_t"
   ]
  },
  {
   "cell_type": "code",
   "execution_count": 7,
   "metadata": {},
   "outputs": [],
   "source": [
    "def get_absolute_symmetric_adjacency_matrix(graph_obj):\n",
    "    \"\"\"\n",
    "    This function returns a n x n given a networkx graph object, which is the sum of the\n",
    "    absolute adjacency matrix and its transpose. This provides symmetry.\n",
    "\n",
    "    Arguments:\n",
    "        graph_obj : Networkx graph object\n",
    "\n",
    "    Returns:\n",
    "        n x n matrix (sparse)\n",
    "    \"\"\"\n",
    "    abs_adj_mat = get_absolute_adjacency_matrix(graph_obj)\n",
    "    abs_adj_mat_t = abs_adj_mat.transpose()\n",
    "    return abs_adj_mat + abs_adj_mat_t"
   ]
  },
  {
   "cell_type": "code",
   "execution_count": 8,
   "metadata": {},
   "outputs": [],
   "source": [
    "def get_absolute_diagonal_degree_matrix(graph_obj):\n",
    "    \"\"\"\n",
    "    This function returns a diagonal matrix D which is the defined as\n",
    "    Dii = sum |Aij| for all j\n",
    "\n",
    "    Arguments:\n",
    "        graph_obj : Networkx graph object\n",
    "\n",
    "    Returns:\n",
    "        n x n matrix (sparse)\n",
    "    \"\"\"\n",
    "    abs_adj_mat = get_absolute_adjacency_matrix(graph_obj)\n",
    "    diag_entries = np.array(abs_adj_mat.sum(axis=1)).reshape(-1)\n",
    "    return ssp.coo_matrix(np.diag(diag_entries))"
   ]
  },
  {
   "cell_type": "code",
   "execution_count": 9,
   "metadata": {},
   "outputs": [],
   "source": [
    "def get_absolute_symmetric_diagonal_degree_matrix(graph_obj):\n",
    "    \"\"\"\n",
    "    This function returns a diagonal matrix E which is the defined as\n",
    "    Eii = sum |Bij| for all j\n",
    "\n",
    "    Arguments:\n",
    "        graph_obj : Networkx graph object\n",
    "\n",
    "    Returns:\n",
    "        n x n matrix (sparse)\n",
    "    \"\"\"\n",
    "    abs_sym_adj_mat = get_absolute_symmetric_adjacency_matrix(graph_obj)\n",
    "    diag_entries = np.array(abs_sym_adj_mat.sum(axis=1)).reshape(-1)\n",
    "    return ssp.coo_matrix(np.diag(diag_entries))"
   ]
  },
  {
   "cell_type": "markdown",
   "metadata": {},
   "source": [
    "## Finding clustering coefficients "
   ]
  },
  {
   "cell_type": "code",
   "execution_count": 20,
   "metadata": {},
   "outputs": [],
   "source": [
    "def clustering_coeff(graph_obj):\n",
    "    abs_adj_mat = get_absolute_adjacency_matrix(graph_obj)\n",
    "    sq_abs_adj_mat = abs_adj_mat.dot(abs_adj_mat)\n",
    "    return abs_adj_mat.multiply(sq_abs_adj_mat).sum() / sq_abs_adj_mat.sum()\n"
   ]
  },
  {
   "cell_type": "code",
   "execution_count": 22,
   "metadata": {},
   "outputs": [],
   "source": [
    "def sign_clustering_coeff(graph_obj):\n",
    "    adj_mat, metas = get_adjacency_matrix(graph_obj)\n",
    "    sq_adj_mat = adj_mat.dot(adj_mat)\n",
    "    abs_adj_mat = abs(adj_mat)\n",
    "    sq_abs_adj_mat = abs_adj_mat.dot(abs_adj_mat)\n",
    "    return adj_mat.multiply(sq_adj_mat).sum() / sq_abs_adj_mat.sum()\n"
   ]
  },
  {
   "cell_type": "code",
   "execution_count": 18,
   "metadata": {},
   "outputs": [],
   "source": [
    "def relative_sign_clustering_coeff(graph_obj):\n",
    "    C = clustering_coeff(graph_obj)\n",
    "    C_s = sign_clustering_coeff(graph_obj)\n",
    "    return C_s / C"
   ]
  },
  {
   "cell_type": "markdown",
   "metadata": {},
   "source": [
    "## Main function"
   ]
  },
  {
   "cell_type": "code",
   "execution_count": 13,
   "metadata": {},
   "outputs": [],
   "source": [
    "if __name__ == '__main__':\n",
    "    p = ArgumentParser()\n",
    "    p.add_argument('--graph_file', type=str, required=True, help='File location to get graph in trivial graph format\\\n",
    "                                     <node1>[space]<node2>[space]<weight>')\n",
    "    p = p.parse_args(\"--graph_file ../slashdot-zoo/out.matrix\".split())\n",
    "    G = graph_reader(p.graph_file)"
   ]
  },
  {
   "cell_type": "code",
   "execution_count": 23,
   "metadata": {},
   "outputs": [],
   "source": [
    "rel_sign_coeff = relative_sign_clustering_coeff(G)"
   ]
  },
  {
   "cell_type": "code",
   "execution_count": 24,
   "metadata": {},
   "outputs": [
    {
     "data": {
      "text/plain": [
       "0.8270075744535788"
      ]
     },
     "execution_count": 24,
     "metadata": {},
     "output_type": "execute_result"
    }
   ],
   "source": [
    "rel_sign_coeff"
   ]
  },
  {
   "cell_type": "code",
   "execution_count": null,
   "metadata": {},
   "outputs": [],
   "source": []
  }
 ],
 "metadata": {
  "kernelspec": {
   "display_name": "Python 3",
   "language": "python",
   "name": "python3"
  },
  "language_info": {
   "codemirror_mode": {
    "name": "ipython",
    "version": 3
   },
   "file_extension": ".py",
   "mimetype": "text/x-python",
   "name": "python",
   "nbconvert_exporter": "python",
   "pygments_lexer": "ipython3",
   "version": "3.5.2"
  }
 },
 "nbformat": 4,
 "nbformat_minor": 2
}
